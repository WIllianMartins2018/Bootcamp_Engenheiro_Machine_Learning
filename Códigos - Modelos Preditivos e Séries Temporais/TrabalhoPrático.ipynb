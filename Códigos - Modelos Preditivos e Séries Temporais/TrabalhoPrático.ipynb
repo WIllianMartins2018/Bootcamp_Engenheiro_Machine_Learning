{
 "cells": [
  {
   "cell_type": "code",
   "execution_count": 55,
   "metadata": {},
   "outputs": [],
   "source": [
    "#TRABALHO PRÁTICO DESENVOLVIDO NA DISCIPLINA MODELOS PREDITIVOS E SÉRIES TEMPORAIS\n",
    "import numpy as np\n",
    "import pandas as pd\n",
    "import matplotlib.pyplot as plt\n",
    "import statistics as sts"
   ]
  },
  {
   "cell_type": "code",
   "execution_count": 56,
   "metadata": {},
   "outputs": [],
   "source": [
    "dataset = pd.read_csv(\"https://pycourse.s3.amazonaws.com/bike-sharing.csv\")"
   ]
  },
  {
   "cell_type": "code",
   "execution_count": 57,
   "metadata": {},
   "outputs": [
    {
     "data": {
      "text/plain": [
       "(17379, 17)"
      ]
     },
     "execution_count": 57,
     "metadata": {},
     "output_type": "execute_result"
    }
   ],
   "source": [
    "# Qual o tamanho desse dataset (número de linhas, número de colunas)?  \n",
    "dataset.shape"
   ]
  },
  {
   "cell_type": "code",
   "execution_count": 58,
   "metadata": {},
   "outputs": [
    {
     "data": {
      "text/plain": [
       "0.19009760630646183"
      ]
     },
     "execution_count": 58,
     "metadata": {},
     "output_type": "execute_result"
    }
   ],
   "source": [
    "# Qual a média da coluna windspeed?  \n",
    "sts.mean(dataset[\"windspeed\"])"
   ]
  },
  {
   "cell_type": "code",
   "execution_count": 59,
   "metadata": {},
   "outputs": [
    {
     "data": {
      "text/plain": [
       "0.49698716842165835"
      ]
     },
     "execution_count": 59,
     "metadata": {},
     "output_type": "execute_result"
    }
   ],
   "source": [
    "# Qual a média da coluna temp?  \n",
    "sts.mean(dataset[\"temp\"])"
   ]
  },
  {
   "cell_type": "code",
   "execution_count": 60,
   "metadata": {},
   "outputs": [
    {
     "data": {
      "text/plain": [
       "datetime             8645\n",
       "rec_id               8645\n",
       "season               8645\n",
       "year                 8645\n",
       "month                8645\n",
       "hour                 8645\n",
       "is_holiday           8645\n",
       "weekday              8645\n",
       "is_workingday        8645\n",
       "weather_condition    8645\n",
       "temp                 8645\n",
       "atemp                8645\n",
       "humidity             8645\n",
       "windspeed            8645\n",
       "casual               8645\n",
       "registered           8645\n",
       "total_count          8645\n",
       "dtype: int64"
      ]
     },
     "execution_count": 60,
     "metadata": {},
     "output_type": "execute_result"
    }
   ],
   "source": [
    "# Quantos registros de locações existem para o ano de 2011 (número de linhas, número de colunas)?  \n",
    "dataset[dataset[\"year\"] == 0].count()"
   ]
  },
  {
   "cell_type": "code",
   "execution_count": 61,
   "metadata": {},
   "outputs": [
    {
     "data": {
      "text/plain": [
       "datetime             8734\n",
       "rec_id               8734\n",
       "season               8734\n",
       "year                 8734\n",
       "month                8734\n",
       "hour                 8734\n",
       "is_holiday           8734\n",
       "weekday              8734\n",
       "is_workingday        8734\n",
       "weather_condition    8734\n",
       "temp                 8734\n",
       "atemp                8734\n",
       "humidity             8734\n",
       "windspeed            8734\n",
       "casual               8734\n",
       "registered           8734\n",
       "total_count          8734\n",
       "dtype: int64"
      ]
     },
     "execution_count": 61,
     "metadata": {},
     "output_type": "execute_result"
    }
   ],
   "source": [
    "# Quantos registros de locações existem para o ano de 2012 (número de linhas, número de colunas)?  \n",
    "dataset[dataset[\"year\"] == 1].count()"
   ]
  },
  {
   "cell_type": "code",
   "execution_count": 62,
   "metadata": {},
   "outputs": [
    {
     "data": {
      "text/plain": [
       "datetime             2011-01-012011-01-012011-01-012011-01-012011-0...\n",
       "rec_id                                                        37372335\n",
       "season                                                           21730\n",
       "year                                                                 0\n",
       "month                                                            56832\n",
       "hour                                                            100054\n",
       "is_holiday                                                         239\n",
       "weekday                                                          26045\n",
       "is_workingday                                                     5911\n",
       "weather_condition                                                12428\n",
       "temp                                                              4228\n",
       "atemp                                                          4054.51\n",
       "humidity                                                       5562.45\n",
       "windspeed                                                      1652.68\n",
       "casual                                                          247252\n",
       "registered                                                      995851\n",
       "total_count                                                    1243103\n",
       "dtype: object"
      ]
     },
     "execution_count": 62,
     "metadata": {},
     "output_type": "execute_result"
    }
   ],
   "source": [
    "# Quantas locações de bicicletas foram efetuadas em 2011?  \n",
    "dataset[dataset[\"year\"] == 0].sum()"
   ]
  },
  {
   "cell_type": "code",
   "execution_count": 63,
   "metadata": {},
   "outputs": [
    {
     "data": {
      "text/plain": [
       "datetime             2012-01-012012-01-012012-01-012012-01-012012-0...\n",
       "rec_id                                                       113651175\n",
       "season                                                           21746\n",
       "year                                                              8734\n",
       "month                                                            56788\n",
       "hour                                                            100617\n",
       "is_holiday                                                         261\n",
       "weekday                                                          26156\n",
       "is_workingday                                                     5954\n",
       "weather_condition                                                12342\n",
       "temp                                                           4409.14\n",
       "atemp                                                          4213.99\n",
       "humidity                                                       5338.16\n",
       "windspeed                                                      1651.02\n",
       "casual                                                          372765\n",
       "registered                                                     1676811\n",
       "total_count                                                    2049576\n",
       "dtype: object"
      ]
     },
     "execution_count": 63,
     "metadata": {},
     "output_type": "execute_result"
    }
   ],
   "source": [
    "# Quantas locações de bicicletas foram efetuadas em 2012?  \n",
    "dataset[dataset[\"year\"] == 1].sum()"
   ]
  },
  {
   "cell_type": "code",
   "execution_count": 64,
   "metadata": {},
   "outputs": [
    {
     "data": {
      "text/plain": [
       "season\n",
       "1    111.114569\n",
       "2    208.344069\n",
       "3    236.016237\n",
       "4    198.868856\n",
       "Name: total_count, dtype: float64"
      ]
     },
     "execution_count": 64,
     "metadata": {},
     "output_type": "execute_result"
    }
   ],
   "source": [
    "# Qual estação do ano contém a maior média de locações de bicicletas?  \n",
    "dataset.groupby(\"season\")[\"total_count\"].mean()"
   ]
  },
  {
   "cell_type": "code",
   "execution_count": 65,
   "metadata": {},
   "outputs": [
    {
     "data": {
      "text/plain": [
       "season\n",
       "1    111.114569\n",
       "2    208.344069\n",
       "3    236.016237\n",
       "4    198.868856\n",
       "Name: total_count, dtype: float64"
      ]
     },
     "execution_count": 65,
     "metadata": {},
     "output_type": "execute_result"
    }
   ],
   "source": [
    "# Qual estação do ano contém a menor média de locações de bicicletas?  \n",
    "dataset.groupby(\"season\")[\"total_count\"].mean()"
   ]
  },
  {
   "cell_type": "code",
   "execution_count": 69,
   "metadata": {},
   "outputs": [
    {
     "data": {
      "text/plain": [
       "hour\n",
       "0      53.898072\n",
       "1      33.375691\n",
       "2      22.869930\n",
       "3      11.727403\n",
       "4       6.352941\n",
       "5      19.889819\n",
       "6      76.044138\n",
       "7     212.064649\n",
       "8     359.011004\n",
       "9     219.309491\n",
       "10    173.668501\n",
       "11    208.143054\n",
       "12    253.315934\n",
       "13    253.661180\n",
       "14    240.949246\n",
       "15    251.233196\n",
       "16    311.983562\n",
       "17    461.452055\n",
       "18    425.510989\n",
       "19    311.523352\n",
       "20    226.030220\n",
       "21    172.314560\n",
       "22    131.335165\n",
       "23     87.831044\n",
       "Name: total_count, dtype: float64"
      ]
     },
     "execution_count": 69,
     "metadata": {},
     "output_type": "execute_result"
    }
   ],
   "source": [
    "# Qual horário do dia contém a maior média de locações de bicicletas?  \n",
    "dataset.groupby(\"hour\")[\"total_count\"].mean()"
   ]
  },
  {
   "cell_type": "code",
   "execution_count": null,
   "metadata": {},
   "outputs": [],
   "source": [
    "# Qual horário do dia contém a menor média de locações de bicicletas?  \n",
    "dataset.groupby(\"hour\")[\"total_count\"].mean()"
   ]
  },
  {
   "cell_type": "code",
   "execution_count": 70,
   "metadata": {},
   "outputs": [
    {
     "data": {
      "text/plain": [
       "weekday\n",
       "0    177.468825\n",
       "1    183.744655\n",
       "2    191.238891\n",
       "3    191.130505\n",
       "4    196.436665\n",
       "5    196.135907\n",
       "6    190.209793\n",
       "Name: total_count, dtype: float64"
      ]
     },
     "execution_count": 70,
     "metadata": {},
     "output_type": "execute_result"
    }
   ],
   "source": [
    "# Que dia da semana contém a maior média de locações de bicicletas?  \n",
    "dataset.groupby(\"weekday\")[\"total_count\"].mean()"
   ]
  },
  {
   "cell_type": "code",
   "execution_count": 71,
   "metadata": {},
   "outputs": [
    {
     "data": {
      "text/plain": [
       "weekday\n",
       "0    177.468825\n",
       "1    183.744655\n",
       "2    191.238891\n",
       "3    191.130505\n",
       "4    196.436665\n",
       "5    196.135907\n",
       "6    190.209793\n",
       "Name: total_count, dtype: float64"
      ]
     },
     "execution_count": 71,
     "metadata": {},
     "output_type": "execute_result"
    }
   ],
   "source": [
    "# Que dia da semana contém a menor média de locações de bicicletas?  \n",
    "dataset.groupby(\"weekday\")[\"total_count\"].mean()"
   ]
  },
  {
   "cell_type": "code",
   "execution_count": 101,
   "metadata": {},
   "outputs": [
    {
     "data": {
      "text/plain": [
       "hour\n",
       "0      34.557692\n",
       "1      15.336538\n",
       "2       7.813725\n",
       "3       4.888889\n",
       "4       4.968750\n",
       "5      25.750000\n",
       "6     107.807692\n",
       "7     303.980769\n",
       "8     488.326923\n",
       "9     238.528846\n",
       "10    131.894231\n",
       "11    152.201923\n",
       "12    193.903846\n",
       "13    185.826923\n",
       "14    170.548077\n",
       "15    181.288462\n",
       "16    272.961538\n",
       "17    513.144231\n",
       "18    494.029126\n",
       "19    357.504854\n",
       "20    256.660194\n",
       "21    194.669903\n",
       "22    143.689320\n",
       "23     83.737864\n",
       "Name: total_count, dtype: float64"
      ]
     },
     "execution_count": 101,
     "metadata": {},
     "output_type": "execute_result"
    }
   ],
   "source": [
    "# Às quartas-feiras (weekday = 3), qual horário do dia contém a maior média de locações de bicicletas?  \n",
    "weekday_3 = dataset[dataset[\"weekday\"] == 3]\n",
    "weekday_3.groupby(\"hour\")[\"total_count\"].mean()"
   ]
  },
  {
   "cell_type": "code",
   "execution_count": 104,
   "metadata": {},
   "outputs": [
    {
     "data": {
      "text/plain": [
       "hour\n",
       "0      94.304762\n",
       "1      67.780952\n",
       "2      50.495238\n",
       "3      22.885714\n",
       "4       7.657143\n",
       "5       8.291262\n",
       "6      21.000000\n",
       "7      45.961905\n",
       "8     114.476190\n",
       "9     186.790476\n",
       "10    263.723810\n",
       "11    328.609524\n",
       "12    375.380952\n",
       "13    385.371429\n",
       "14    381.333333\n",
       "15    382.428571\n",
       "16    366.142857\n",
       "17    334.409524\n",
       "18    292.048077\n",
       "19    239.932692\n",
       "20    180.865385\n",
       "21    156.000000\n",
       "22    139.663462\n",
       "23    115.855769\n",
       "Name: total_count, dtype: float64"
      ]
     },
     "execution_count": 104,
     "metadata": {},
     "output_type": "execute_result"
    }
   ],
   "source": [
    "# Aos sábados (weekday = 6), qual horário do dia contém a maior média de locações de bicicletas?  \n",
    "weekday_6 = dataset[dataset[\"weekday\"] == 6]\n",
    "weekday_6.groupby(\"hour\")[\"total_count\"].mean()"
   ]
  },
  {
   "cell_type": "code",
   "execution_count": null,
   "metadata": {},
   "outputs": [],
   "source": []
  }
 ],
 "metadata": {
  "kernelspec": {
   "display_name": "Python 3",
   "language": "python",
   "name": "python3"
  },
  "language_info": {
   "codemirror_mode": {
    "name": "ipython",
    "version": 3
   },
   "file_extension": ".py",
   "mimetype": "text/x-python",
   "name": "python",
   "nbconvert_exporter": "python",
   "pygments_lexer": "ipython3",
   "version": "3.8.5"
  }
 },
 "nbformat": 4,
 "nbformat_minor": 4
}
