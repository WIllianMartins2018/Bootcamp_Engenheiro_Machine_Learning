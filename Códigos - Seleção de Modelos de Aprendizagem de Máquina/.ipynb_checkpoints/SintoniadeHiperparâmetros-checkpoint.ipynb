{
 "cells": [
  {
   "cell_type": "code",
   "execution_count": 1,
   "metadata": {},
   "outputs": [],
   "source": [
    "import pandas as pd\n",
    "import numpy as np\n",
    "import matplotlib.pyplot as plt"
   ]
  },
  {
   "cell_type": "code",
   "execution_count": 2,
   "metadata": {},
   "outputs": [],
   "source": [
    "df = pd.read_csv(\"Dados/diabetes.csv\")"
   ]
  },
  {
   "cell_type": "code",
   "execution_count": 3,
   "metadata": {},
   "outputs": [
    {
     "data": {
      "text/html": [
       "<div>\n",
       "<style scoped>\n",
       "    .dataframe tbody tr th:only-of-type {\n",
       "        vertical-align: middle;\n",
       "    }\n",
       "\n",
       "    .dataframe tbody tr th {\n",
       "        vertical-align: top;\n",
       "    }\n",
       "\n",
       "    .dataframe thead th {\n",
       "        text-align: right;\n",
       "    }\n",
       "</style>\n",
       "<table border=\"1\" class=\"dataframe\">\n",
       "  <thead>\n",
       "    <tr style=\"text-align: right;\">\n",
       "      <th></th>\n",
       "      <th>preg</th>\n",
       "      <th>plas</th>\n",
       "      <th>pres</th>\n",
       "      <th>skin</th>\n",
       "      <th>insu</th>\n",
       "      <th>mass</th>\n",
       "      <th>pedi</th>\n",
       "      <th>age</th>\n",
       "      <th>class</th>\n",
       "    </tr>\n",
       "  </thead>\n",
       "  <tbody>\n",
       "    <tr>\n",
       "      <th>0</th>\n",
       "      <td>6</td>\n",
       "      <td>148</td>\n",
       "      <td>72</td>\n",
       "      <td>35</td>\n",
       "      <td>0</td>\n",
       "      <td>33.6</td>\n",
       "      <td>0.627</td>\n",
       "      <td>50</td>\n",
       "      <td>tested_positive</td>\n",
       "    </tr>\n",
       "    <tr>\n",
       "      <th>1</th>\n",
       "      <td>1</td>\n",
       "      <td>85</td>\n",
       "      <td>66</td>\n",
       "      <td>29</td>\n",
       "      <td>0</td>\n",
       "      <td>26.6</td>\n",
       "      <td>0.351</td>\n",
       "      <td>31</td>\n",
       "      <td>tested_negative</td>\n",
       "    </tr>\n",
       "    <tr>\n",
       "      <th>2</th>\n",
       "      <td>8</td>\n",
       "      <td>183</td>\n",
       "      <td>64</td>\n",
       "      <td>0</td>\n",
       "      <td>0</td>\n",
       "      <td>23.3</td>\n",
       "      <td>0.672</td>\n",
       "      <td>32</td>\n",
       "      <td>tested_positive</td>\n",
       "    </tr>\n",
       "    <tr>\n",
       "      <th>3</th>\n",
       "      <td>1</td>\n",
       "      <td>89</td>\n",
       "      <td>66</td>\n",
       "      <td>23</td>\n",
       "      <td>94</td>\n",
       "      <td>28.1</td>\n",
       "      <td>0.167</td>\n",
       "      <td>21</td>\n",
       "      <td>tested_negative</td>\n",
       "    </tr>\n",
       "    <tr>\n",
       "      <th>4</th>\n",
       "      <td>0</td>\n",
       "      <td>137</td>\n",
       "      <td>40</td>\n",
       "      <td>35</td>\n",
       "      <td>168</td>\n",
       "      <td>43.1</td>\n",
       "      <td>2.288</td>\n",
       "      <td>33</td>\n",
       "      <td>tested_positive</td>\n",
       "    </tr>\n",
       "  </tbody>\n",
       "</table>\n",
       "</div>"
      ],
      "text/plain": [
       "   preg  plas  pres  skin  insu  mass   pedi  age            class\n",
       "0     6   148    72    35     0  33.6  0.627   50  tested_positive\n",
       "1     1    85    66    29     0  26.6  0.351   31  tested_negative\n",
       "2     8   183    64     0     0  23.3  0.672   32  tested_positive\n",
       "3     1    89    66    23    94  28.1  0.167   21  tested_negative\n",
       "4     0   137    40    35   168  43.1  2.288   33  tested_positive"
      ]
     },
     "execution_count": 3,
     "metadata": {},
     "output_type": "execute_result"
    }
   ],
   "source": [
    "df.head()"
   ]
  },
  {
   "cell_type": "code",
   "execution_count": 4,
   "metadata": {},
   "outputs": [
    {
     "data": {
      "text/plain": [
       "(768, 9)"
      ]
     },
     "execution_count": 4,
     "metadata": {},
     "output_type": "execute_result"
    }
   ],
   "source": [
    "df.shape"
   ]
  },
  {
   "cell_type": "code",
   "execution_count": 5,
   "metadata": {},
   "outputs": [
    {
     "data": {
      "text/plain": [
       "Index(['preg', 'plas', 'pres', 'skin', 'insu', 'mass', 'pedi', 'age', 'class'], dtype='object')"
      ]
     },
     "execution_count": 5,
     "metadata": {},
     "output_type": "execute_result"
    }
   ],
   "source": [
    "df.columns"
   ]
  },
  {
   "cell_type": "code",
   "execution_count": 6,
   "metadata": {},
   "outputs": [
    {
     "data": {
      "text/html": [
       "<div>\n",
       "<style scoped>\n",
       "    .dataframe tbody tr th:only-of-type {\n",
       "        vertical-align: middle;\n",
       "    }\n",
       "\n",
       "    .dataframe tbody tr th {\n",
       "        vertical-align: top;\n",
       "    }\n",
       "\n",
       "    .dataframe thead th {\n",
       "        text-align: right;\n",
       "    }\n",
       "</style>\n",
       "<table border=\"1\" class=\"dataframe\">\n",
       "  <thead>\n",
       "    <tr style=\"text-align: right;\">\n",
       "      <th></th>\n",
       "      <th>preg</th>\n",
       "      <th>plas</th>\n",
       "      <th>pres</th>\n",
       "      <th>skin</th>\n",
       "      <th>insu</th>\n",
       "      <th>mass</th>\n",
       "      <th>pedi</th>\n",
       "      <th>age</th>\n",
       "      <th>class</th>\n",
       "    </tr>\n",
       "  </thead>\n",
       "  <tbody>\n",
       "    <tr>\n",
       "      <th>0</th>\n",
       "      <td>6</td>\n",
       "      <td>148</td>\n",
       "      <td>72</td>\n",
       "      <td>35</td>\n",
       "      <td>0</td>\n",
       "      <td>33.6</td>\n",
       "      <td>0.627</td>\n",
       "      <td>50</td>\n",
       "      <td>1</td>\n",
       "    </tr>\n",
       "    <tr>\n",
       "      <th>1</th>\n",
       "      <td>1</td>\n",
       "      <td>85</td>\n",
       "      <td>66</td>\n",
       "      <td>29</td>\n",
       "      <td>0</td>\n",
       "      <td>26.6</td>\n",
       "      <td>0.351</td>\n",
       "      <td>31</td>\n",
       "      <td>0</td>\n",
       "    </tr>\n",
       "    <tr>\n",
       "      <th>2</th>\n",
       "      <td>8</td>\n",
       "      <td>183</td>\n",
       "      <td>64</td>\n",
       "      <td>0</td>\n",
       "      <td>0</td>\n",
       "      <td>23.3</td>\n",
       "      <td>0.672</td>\n",
       "      <td>32</td>\n",
       "      <td>1</td>\n",
       "    </tr>\n",
       "    <tr>\n",
       "      <th>3</th>\n",
       "      <td>1</td>\n",
       "      <td>89</td>\n",
       "      <td>66</td>\n",
       "      <td>23</td>\n",
       "      <td>94</td>\n",
       "      <td>28.1</td>\n",
       "      <td>0.167</td>\n",
       "      <td>21</td>\n",
       "      <td>0</td>\n",
       "    </tr>\n",
       "    <tr>\n",
       "      <th>4</th>\n",
       "      <td>0</td>\n",
       "      <td>137</td>\n",
       "      <td>40</td>\n",
       "      <td>35</td>\n",
       "      <td>168</td>\n",
       "      <td>43.1</td>\n",
       "      <td>2.288</td>\n",
       "      <td>33</td>\n",
       "      <td>1</td>\n",
       "    </tr>\n",
       "  </tbody>\n",
       "</table>\n",
       "</div>"
      ],
      "text/plain": [
       "   preg  plas  pres  skin  insu  mass   pedi  age  class\n",
       "0     6   148    72    35     0  33.6  0.627   50      1\n",
       "1     1    85    66    29     0  26.6  0.351   31      0\n",
       "2     8   183    64     0     0  23.3  0.672   32      1\n",
       "3     1    89    66    23    94  28.1  0.167   21      0\n",
       "4     0   137    40    35   168  43.1  2.288   33      1"
      ]
     },
     "execution_count": 6,
     "metadata": {},
     "output_type": "execute_result"
    }
   ],
   "source": [
    "#Criando um dicionário para mapaeamento\n",
    "name_to_class = {\n",
    "    'tested_positive': 1,\n",
    "    'tested_negative': 0\n",
    "}\n",
    "\n",
    "df['class'] = df['class'].map(name_to_class)\n",
    "\n",
    "df.head()"
   ]
  },
  {
   "cell_type": "code",
   "execution_count": 7,
   "metadata": {},
   "outputs": [
    {
     "data": {
      "text/html": [
       "<div>\n",
       "<style scoped>\n",
       "    .dataframe tbody tr th:only-of-type {\n",
       "        vertical-align: middle;\n",
       "    }\n",
       "\n",
       "    .dataframe tbody tr th {\n",
       "        vertical-align: top;\n",
       "    }\n",
       "\n",
       "    .dataframe thead th {\n",
       "        text-align: right;\n",
       "    }\n",
       "</style>\n",
       "<table border=\"1\" class=\"dataframe\">\n",
       "  <thead>\n",
       "    <tr style=\"text-align: right;\">\n",
       "      <th></th>\n",
       "      <th>preg</th>\n",
       "      <th>plas</th>\n",
       "      <th>pres</th>\n",
       "      <th>skin</th>\n",
       "      <th>insu</th>\n",
       "      <th>mass</th>\n",
       "      <th>pedi</th>\n",
       "      <th>age</th>\n",
       "      <th>class</th>\n",
       "    </tr>\n",
       "  </thead>\n",
       "  <tbody>\n",
       "    <tr>\n",
       "      <th>count</th>\n",
       "      <td>768.000000</td>\n",
       "      <td>768.000000</td>\n",
       "      <td>768.000000</td>\n",
       "      <td>768.000000</td>\n",
       "      <td>768.000000</td>\n",
       "      <td>768.000000</td>\n",
       "      <td>768.000000</td>\n",
       "      <td>768.000000</td>\n",
       "      <td>768.000000</td>\n",
       "    </tr>\n",
       "    <tr>\n",
       "      <th>mean</th>\n",
       "      <td>3.845052</td>\n",
       "      <td>120.894531</td>\n",
       "      <td>69.105469</td>\n",
       "      <td>20.536458</td>\n",
       "      <td>79.799479</td>\n",
       "      <td>31.992578</td>\n",
       "      <td>0.471876</td>\n",
       "      <td>33.240885</td>\n",
       "      <td>0.348958</td>\n",
       "    </tr>\n",
       "    <tr>\n",
       "      <th>std</th>\n",
       "      <td>3.369578</td>\n",
       "      <td>31.972618</td>\n",
       "      <td>19.355807</td>\n",
       "      <td>15.952218</td>\n",
       "      <td>115.244002</td>\n",
       "      <td>7.884160</td>\n",
       "      <td>0.331329</td>\n",
       "      <td>11.760232</td>\n",
       "      <td>0.476951</td>\n",
       "    </tr>\n",
       "    <tr>\n",
       "      <th>min</th>\n",
       "      <td>0.000000</td>\n",
       "      <td>0.000000</td>\n",
       "      <td>0.000000</td>\n",
       "      <td>0.000000</td>\n",
       "      <td>0.000000</td>\n",
       "      <td>0.000000</td>\n",
       "      <td>0.078000</td>\n",
       "      <td>21.000000</td>\n",
       "      <td>0.000000</td>\n",
       "    </tr>\n",
       "    <tr>\n",
       "      <th>25%</th>\n",
       "      <td>1.000000</td>\n",
       "      <td>99.000000</td>\n",
       "      <td>62.000000</td>\n",
       "      <td>0.000000</td>\n",
       "      <td>0.000000</td>\n",
       "      <td>27.300000</td>\n",
       "      <td>0.243750</td>\n",
       "      <td>24.000000</td>\n",
       "      <td>0.000000</td>\n",
       "    </tr>\n",
       "    <tr>\n",
       "      <th>50%</th>\n",
       "      <td>3.000000</td>\n",
       "      <td>117.000000</td>\n",
       "      <td>72.000000</td>\n",
       "      <td>23.000000</td>\n",
       "      <td>30.500000</td>\n",
       "      <td>32.000000</td>\n",
       "      <td>0.372500</td>\n",
       "      <td>29.000000</td>\n",
       "      <td>0.000000</td>\n",
       "    </tr>\n",
       "    <tr>\n",
       "      <th>75%</th>\n",
       "      <td>6.000000</td>\n",
       "      <td>140.250000</td>\n",
       "      <td>80.000000</td>\n",
       "      <td>32.000000</td>\n",
       "      <td>127.250000</td>\n",
       "      <td>36.600000</td>\n",
       "      <td>0.626250</td>\n",
       "      <td>41.000000</td>\n",
       "      <td>1.000000</td>\n",
       "    </tr>\n",
       "    <tr>\n",
       "      <th>max</th>\n",
       "      <td>17.000000</td>\n",
       "      <td>199.000000</td>\n",
       "      <td>122.000000</td>\n",
       "      <td>99.000000</td>\n",
       "      <td>846.000000</td>\n",
       "      <td>67.100000</td>\n",
       "      <td>2.420000</td>\n",
       "      <td>81.000000</td>\n",
       "      <td>1.000000</td>\n",
       "    </tr>\n",
       "  </tbody>\n",
       "</table>\n",
       "</div>"
      ],
      "text/plain": [
       "             preg        plas        pres        skin        insu        mass  \\\n",
       "count  768.000000  768.000000  768.000000  768.000000  768.000000  768.000000   \n",
       "mean     3.845052  120.894531   69.105469   20.536458   79.799479   31.992578   \n",
       "std      3.369578   31.972618   19.355807   15.952218  115.244002    7.884160   \n",
       "min      0.000000    0.000000    0.000000    0.000000    0.000000    0.000000   \n",
       "25%      1.000000   99.000000   62.000000    0.000000    0.000000   27.300000   \n",
       "50%      3.000000  117.000000   72.000000   23.000000   30.500000   32.000000   \n",
       "75%      6.000000  140.250000   80.000000   32.000000  127.250000   36.600000   \n",
       "max     17.000000  199.000000  122.000000   99.000000  846.000000   67.100000   \n",
       "\n",
       "             pedi         age       class  \n",
       "count  768.000000  768.000000  768.000000  \n",
       "mean     0.471876   33.240885    0.348958  \n",
       "std      0.331329   11.760232    0.476951  \n",
       "min      0.078000   21.000000    0.000000  \n",
       "25%      0.243750   24.000000    0.000000  \n",
       "50%      0.372500   29.000000    0.000000  \n",
       "75%      0.626250   41.000000    1.000000  \n",
       "max      2.420000   81.000000    1.000000  "
      ]
     },
     "execution_count": 7,
     "metadata": {},
     "output_type": "execute_result"
    }
   ],
   "source": [
    "df.describe()"
   ]
  },
  {
   "cell_type": "code",
   "execution_count": 8,
   "metadata": {},
   "outputs": [
    {
     "data": {
      "text/html": [
       "<div>\n",
       "<style scoped>\n",
       "    .dataframe tbody tr th:only-of-type {\n",
       "        vertical-align: middle;\n",
       "    }\n",
       "\n",
       "    .dataframe tbody tr th {\n",
       "        vertical-align: top;\n",
       "    }\n",
       "\n",
       "    .dataframe thead th {\n",
       "        text-align: right;\n",
       "    }\n",
       "</style>\n",
       "<table border=\"1\" class=\"dataframe\">\n",
       "  <thead>\n",
       "    <tr style=\"text-align: right;\">\n",
       "      <th></th>\n",
       "      <th>preg</th>\n",
       "      <th>plas</th>\n",
       "      <th>pres</th>\n",
       "      <th>skin</th>\n",
       "      <th>insu</th>\n",
       "      <th>mass</th>\n",
       "      <th>pedi</th>\n",
       "      <th>age</th>\n",
       "    </tr>\n",
       "  </thead>\n",
       "  <tbody>\n",
       "    <tr>\n",
       "      <th>0</th>\n",
       "      <td>6</td>\n",
       "      <td>148</td>\n",
       "      <td>72</td>\n",
       "      <td>35</td>\n",
       "      <td>0</td>\n",
       "      <td>33.6</td>\n",
       "      <td>0.627</td>\n",
       "      <td>50</td>\n",
       "    </tr>\n",
       "    <tr>\n",
       "      <th>1</th>\n",
       "      <td>1</td>\n",
       "      <td>85</td>\n",
       "      <td>66</td>\n",
       "      <td>29</td>\n",
       "      <td>0</td>\n",
       "      <td>26.6</td>\n",
       "      <td>0.351</td>\n",
       "      <td>31</td>\n",
       "    </tr>\n",
       "    <tr>\n",
       "      <th>2</th>\n",
       "      <td>8</td>\n",
       "      <td>183</td>\n",
       "      <td>64</td>\n",
       "      <td>0</td>\n",
       "      <td>0</td>\n",
       "      <td>23.3</td>\n",
       "      <td>0.672</td>\n",
       "      <td>32</td>\n",
       "    </tr>\n",
       "    <tr>\n",
       "      <th>3</th>\n",
       "      <td>1</td>\n",
       "      <td>89</td>\n",
       "      <td>66</td>\n",
       "      <td>23</td>\n",
       "      <td>94</td>\n",
       "      <td>28.1</td>\n",
       "      <td>0.167</td>\n",
       "      <td>21</td>\n",
       "    </tr>\n",
       "    <tr>\n",
       "      <th>4</th>\n",
       "      <td>0</td>\n",
       "      <td>137</td>\n",
       "      <td>40</td>\n",
       "      <td>35</td>\n",
       "      <td>168</td>\n",
       "      <td>43.1</td>\n",
       "      <td>2.288</td>\n",
       "      <td>33</td>\n",
       "    </tr>\n",
       "  </tbody>\n",
       "</table>\n",
       "</div>"
      ],
      "text/plain": [
       "   preg  plas  pres  skin  insu  mass   pedi  age\n",
       "0     6   148    72    35     0  33.6  0.627   50\n",
       "1     1    85    66    29     0  26.6  0.351   31\n",
       "2     8   183    64     0     0  23.3  0.672   32\n",
       "3     1    89    66    23    94  28.1  0.167   21\n",
       "4     0   137    40    35   168  43.1  2.288   33"
      ]
     },
     "execution_count": 8,
     "metadata": {},
     "output_type": "execute_result"
    }
   ],
   "source": [
    "#Transformando em array\n",
    "labels = np.array(df['class'])\n",
    "\n",
    "#Ordem das feautures\n",
    "feauture_list = list(df.columns)\n",
    "\n",
    "#Removendo a coluna do DF\n",
    "df = df.drop('class', axis=1)\n",
    "\n",
    "#Verificando\n",
    "df.head()"
   ]
  },
  {
   "cell_type": "code",
   "execution_count": 9,
   "metadata": {},
   "outputs": [],
   "source": [
    "data = np.array(df)"
   ]
  },
  {
   "cell_type": "code",
   "execution_count": 10,
   "metadata": {},
   "outputs": [],
   "source": [
    "from sklearn.model_selection import train_test_split\n",
    "\n",
    "#Divindo em treino e teste\n",
    "train_data, test_data, train_labels, test_labels = train_test_split(data, labels, test_size=0.25, random_state=42)"
   ]
  },
  {
   "cell_type": "code",
   "execution_count": 11,
   "metadata": {},
   "outputs": [],
   "source": [
    "#importando o modelo SVM\n",
    "from sklearn.svm import SVC\n",
    "\n",
    "#Treinando o SVM com o Kernel RBF\n",
    "classifier1 = SVC(kernel='rbf').fit(train_data, train_labels)\n",
    "\n",
    "#Aplicando o modelo treinado\n",
    "predicitions1_labels = classifier1.predict(test_data)"
   ]
  },
  {
   "cell_type": "code",
   "execution_count": 12,
   "metadata": {},
   "outputs": [
    {
     "name": "stdout",
     "output_type": "stream",
     "text": [
      "\n",
      "Matriz de Confusão:\n",
      " [[106  17]\n",
      " [ 35  34]]\n",
      "\n",
      "Acurácia:\n",
      " 0.7291666666666666\n",
      "\n",
      "F1:\n",
      " 0.5666666666666667\n",
      "\n",
      "AUROC:\n",
      " 0.6772711205372923\n"
     ]
    }
   ],
   "source": [
    "#Avaliando o Modelo\n",
    "from sklearn import metrics\n",
    "\n",
    "print('\\nMatriz de Confusão:\\n', metrics.confusion_matrix(test_labels, predicitions1_labels))\n",
    "print('\\nAcurácia:\\n', metrics.accuracy_score(test_labels, predicitions1_labels))\n",
    "print('\\nF1:\\n', metrics.f1_score(test_labels, predicitions1_labels))\n",
    "print('\\nAUROC:\\n', metrics.roc_auc_score(test_labels, predicitions1_labels))"
   ]
  },
  {
   "cell_type": "code",
   "execution_count": 13,
   "metadata": {},
   "outputs": [],
   "source": [
    "#TREINANDO O SVM COM O KERNEL SIGMOIDAL\n",
    "classifier2 = SVC(kernel='sigmoid').fit(train_data, train_labels)\n",
    "\n",
    "#Aplicando o modelo treinado\n",
    "predicitions2_labels = classifier2.predict(test_data)"
   ]
  },
  {
   "cell_type": "code",
   "execution_count": 14,
   "metadata": {},
   "outputs": [
    {
     "name": "stdout",
     "output_type": "stream",
     "text": [
      "\n",
      "Matriz de Confusão:\n",
      " [[94 29]\n",
      " [57 12]]\n",
      "\n",
      "Acurácia:\n",
      " 0.5520833333333334\n",
      "\n",
      "F1:\n",
      " 0.21818181818181817\n",
      "\n",
      "AUROC:\n",
      " 0.46907034287734173\n"
     ]
    }
   ],
   "source": [
    "#Avaliando o Modelo\n",
    "\n",
    "print('\\nMatriz de Confusão:\\n', metrics.confusion_matrix(test_labels, predicitions2_labels))\n",
    "print('\\nAcurácia:\\n', metrics.accuracy_score(test_labels, predicitions2_labels))\n",
    "print('\\nF1:\\n', metrics.f1_score(test_labels, predicitions2_labels))\n",
    "print('\\nAUROC:\\n', metrics.roc_auc_score(test_labels, predicitions2_labels))"
   ]
  },
  {
   "cell_type": "code",
   "execution_count": 15,
   "metadata": {},
   "outputs": [],
   "source": [
    "#Treinando o SVM com o Kernel RBF, com largura da gaussiana alterada\n",
    "classifier3 = SVC(kernel='rbf', gamma='auto').fit(train_data, train_labels)\n",
    "\n",
    "#Aplicando o modelo treinado\n",
    "predicitions3_labels = classifier3.predict(test_data)"
   ]
  },
  {
   "cell_type": "code",
   "execution_count": 16,
   "metadata": {},
   "outputs": [
    {
     "name": "stdout",
     "output_type": "stream",
     "text": [
      "\n",
      "Matriz de Confusão:\n",
      " [[123   0]\n",
      " [ 69   0]]\n",
      "\n",
      "Acurácia:\n",
      " 0.640625\n",
      "\n",
      "F1:\n",
      " 0.0\n",
      "\n",
      "AUROC:\n",
      " 0.5\n"
     ]
    }
   ],
   "source": [
    "#Avaliando o Modelo\n",
    "\n",
    "print('\\nMatriz de Confusão:\\n', metrics.confusion_matrix(test_labels, predicitions3_labels))\n",
    "print('\\nAcurácia:\\n', metrics.accuracy_score(test_labels, predicitions3_labels))\n",
    "print('\\nF1:\\n', metrics.f1_score(test_labels, predicitions3_labels))\n",
    "print('\\nAUROC:\\n', metrics.roc_auc_score(test_labels, predicitions3_labels))"
   ]
  },
  {
   "cell_type": "code",
   "execution_count": 17,
   "metadata": {},
   "outputs": [],
   "source": [
    "#Treinando o SVM com o Kernel RBF, com largura da gaussiana alterada\n",
    "classifier4 = SVC(C = 0.1, kernel='rbf', gamma=0.0001).fit(train_data, train_labels)\n",
    "\n",
    "#Aplicando o modelo treinado\n",
    "predicitions4_labels = classifier4.predict(test_data)"
   ]
  },
  {
   "cell_type": "code",
   "execution_count": 18,
   "metadata": {},
   "outputs": [
    {
     "name": "stdout",
     "output_type": "stream",
     "text": [
      "\n",
      "Matriz de Confusão:\n",
      " [[112  11]\n",
      " [ 43  26]]\n",
      "\n",
      "Acurácia:\n",
      " 0.71875\n",
      "\n",
      "F1:\n",
      " 0.49056603773584906\n",
      "\n",
      "AUROC:\n",
      " 0.6436903499469776\n"
     ]
    }
   ],
   "source": [
    "#Avaliando o Modelo\n",
    "\n",
    "print('\\nMatriz de Confusão:\\n', metrics.confusion_matrix(test_labels, predicitions4_labels))\n",
    "print('\\nAcurácia:\\n', metrics.accuracy_score(test_labels, predicitions4_labels))\n",
    "print('\\nF1:\\n', metrics.f1_score(test_labels, predicitions4_labels))\n",
    "print('\\nAUROC:\\n', metrics.roc_auc_score(test_labels, predicitions4_labels))"
   ]
  },
  {
   "cell_type": "code",
   "execution_count": 19,
   "metadata": {},
   "outputs": [],
   "source": [
    "#UTILIZANDO O RANDOM FOREST REGRESSOR\n",
    "from sklearn.ensemble import RandomForestClassifier\n",
    "\n",
    "#Treinando o MOdelo\n",
    "classifier5 = RandomForestClassifier(n_estimators=10, random_state=42).fit(train_data, train_labels)\n",
    "\n",
    "#Predições\n",
    "predicitions5_labels = classifier5.predict(test_data)"
   ]
  },
  {
   "cell_type": "code",
   "execution_count": 20,
   "metadata": {},
   "outputs": [
    {
     "name": "stdout",
     "output_type": "stream",
     "text": [
      "\n",
      "Matriz de Confusão:\n",
      " [[97 26]\n",
      " [24 45]]\n",
      "\n",
      "Acurácia:\n",
      " 0.7395833333333334\n",
      "\n",
      "F1:\n",
      " 0.6428571428571428\n",
      "\n",
      "AUROC:\n",
      " 0.72039589961117\n"
     ]
    }
   ],
   "source": [
    "print('\\nMatriz de Confusão:\\n', metrics.confusion_matrix(test_labels, predicitions5_labels))\n",
    "print('\\nAcurácia:\\n', metrics.accuracy_score(test_labels, predicitions5_labels))\n",
    "print('\\nF1:\\n', metrics.f1_score(test_labels, predicitions5_labels))\n",
    "print('\\nAUROC:\\n', metrics.roc_auc_score(test_labels, predicitions5_labels))"
   ]
  },
  {
   "cell_type": "code",
   "execution_count": 21,
   "metadata": {},
   "outputs": [],
   "source": [
    "#Treinando o Modelo\n",
    "classifier6 = RandomForestClassifier(n_estimators=100, random_state=42).fit(train_data, train_labels)\n",
    "#Predições\n",
    "predicitions6_labels = classifier6.predict(test_data)"
   ]
  },
  {
   "cell_type": "code",
   "execution_count": 22,
   "metadata": {},
   "outputs": [
    {
     "name": "stdout",
     "output_type": "stream",
     "text": [
      "\n",
      "Matriz de Confusão:\n",
      " [[96 27]\n",
      " [24 45]]\n",
      "\n",
      "Acurácia:\n",
      " 0.734375\n",
      "\n",
      "F1:\n",
      " 0.6382978723404256\n",
      "\n",
      "AUROC:\n",
      " 0.7163308589607635\n"
     ]
    }
   ],
   "source": [
    "print('\\nMatriz de Confusão:\\n', metrics.confusion_matrix(test_labels, predicitions6_labels))\n",
    "print('\\nAcurácia:\\n', metrics.accuracy_score(test_labels, predicitions6_labels))\n",
    "print('\\nF1:\\n', metrics.f1_score(test_labels, predicitions6_labels))\n",
    "print('\\nAUROC:\\n', metrics.roc_auc_score(test_labels, predicitions6_labels))"
   ]
  },
  {
   "cell_type": "code",
   "execution_count": 23,
   "metadata": {},
   "outputs": [],
   "source": [
    "#Treinando o Modelo\n",
    "classifier7 = RandomForestClassifier(n_estimators=100, bootstrap=False, random_state=42).fit(train_data, train_labels)\n",
    "#Predições\n",
    "predicitions7_labels = classifier7.predict(test_data)"
   ]
  },
  {
   "cell_type": "code",
   "execution_count": 24,
   "metadata": {},
   "outputs": [
    {
     "name": "stdout",
     "output_type": "stream",
     "text": [
      "\n",
      "Matriz de Confusão:\n",
      " [[93 30]\n",
      " [24 45]]\n",
      "\n",
      "Acurácia:\n",
      " 0.71875\n",
      "\n",
      "F1:\n",
      " 0.6250000000000001\n",
      "\n",
      "AUROC:\n",
      " 0.704135737009544\n"
     ]
    }
   ],
   "source": [
    "print('\\nMatriz de Confusão:\\n', metrics.confusion_matrix(test_labels, predicitions7_labels))\n",
    "print('\\nAcurácia:\\n', metrics.accuracy_score(test_labels, predicitions7_labels))\n",
    "print('\\nF1:\\n', metrics.f1_score(test_labels, predicitions7_labels))\n",
    "print('\\nAUROC:\\n', metrics.roc_auc_score(test_labels, predicitions7_labels))"
   ]
  },
  {
   "cell_type": "code",
   "execution_count": 25,
   "metadata": {},
   "outputs": [],
   "source": [
    "#GRID SEARCH\n",
    "from sklearn.model_selection import StratifiedKFold\n",
    "from sklearn.model_selection import GridSearchCV\n",
    "from sklearn.metrics import f1_score, make_scorer"
   ]
  },
  {
   "cell_type": "code",
   "execution_count": 26,
   "metadata": {},
   "outputs": [
    {
     "data": {
      "text/plain": [
       "GridSearchCV(cv=StratifiedKFold(n_splits=10, random_state=None, shuffle=False),\n",
       "             estimator=SVC(),\n",
       "             param_grid={'C': [0.01, 1, 10], 'kernel': ('sigmoid', 'rbf')},\n",
       "             scoring=make_scorer(f1_score))"
      ]
     },
     "execution_count": 26,
     "metadata": {},
     "output_type": "execute_result"
    }
   ],
   "source": [
    "#Definindo Hiperparâmetros\n",
    "hiperparam = {'kernel': ('sigmoid', 'rbf'), 'C': [0.01, 1, 10]}\n",
    "\n",
    "#Definindo o tipo de validação cruzada e o numero de folds\n",
    "cv_strat = StratifiedKFold(n_splits=10)\n",
    "\n",
    "#Instanciando o classificador\n",
    "classifier = SVC()\n",
    "\n",
    "#Definindo a estratégia de score a partir da metrica f1\n",
    "f1 = make_scorer(f1_score)\n",
    "\n",
    "#Instanciando e modelando o grid search com os hiperparametros e a validação definidas\n",
    "grid_cv = GridSearchCV(classifier, hiperparam, cv = cv_strat, scoring=f1)\n",
    "grid_cv.fit(data, labels)"
   ]
  },
  {
   "cell_type": "code",
   "execution_count": 27,
   "metadata": {},
   "outputs": [
    {
     "name": "stdout",
     "output_type": "stream",
     "text": [
      "Resumo de todos os resultados encontrados:\n",
      "\n",
      " {'mean_fit_time': array([0.01704819, 0.01192367, 0.0149945 , 0.01393597, 0.00998812,\n",
      "       0.0135056 ]), 'std_fit_time': array([0.00409958, 0.00408502, 0.00447338, 0.00438877, 0.00045597,\n",
      "       0.00562489]), 'mean_score_time': array([0.00151806, 0.00204821, 0.00299091, 0.0010716 , 0.00298698,\n",
      "       0.        ]), 'std_score_time': array([0.00231106, 0.00409667, 0.00324855, 0.00198416, 0.00456452,\n",
      "       0.        ]), 'param_C': masked_array(data=[0.01, 0.01, 1, 1, 10, 10],\n",
      "             mask=[False, False, False, False, False, False],\n",
      "       fill_value='?',\n",
      "            dtype=object), 'param_kernel': masked_array(data=['sigmoid', 'rbf', 'sigmoid', 'rbf', 'sigmoid', 'rbf'],\n",
      "             mask=[False, False, False, False, False, False],\n",
      "       fill_value='?',\n",
      "            dtype=object), 'params': [{'C': 0.01, 'kernel': 'sigmoid'}, {'C': 0.01, 'kernel': 'rbf'}, {'C': 1, 'kernel': 'sigmoid'}, {'C': 1, 'kernel': 'rbf'}, {'C': 10, 'kernel': 'sigmoid'}, {'C': 10, 'kernel': 'rbf'}], 'split0_test_score': array([0.        , 0.        , 0.1       , 0.56521739, 0.17777778,\n",
      "       0.58823529]), 'split1_test_score': array([0.        , 0.        , 0.17777778, 0.47368421, 0.32142857,\n",
      "       0.60465116]), 'split2_test_score': array([0.        , 0.        , 0.13333333, 0.58333333, 0.11320755,\n",
      "       0.57142857]), 'split3_test_score': array([0.        , 0.        , 0.18181818, 0.54166667, 0.28070175,\n",
      "       0.58823529]), 'split4_test_score': array([0.        , 0.        , 0.11111111, 0.43243243, 0.16949153,\n",
      "       0.47368421]), 'split5_test_score': array([0.        , 0.        , 0.04444444, 0.65116279, 0.11111111,\n",
      "       0.68085106]), 'split6_test_score': array([0.        , 0.        , 0.2173913 , 0.57777778, 0.32142857,\n",
      "       0.66666667]), 'split7_test_score': array([0.        , 0.        , 0.08695652, 0.68085106, 0.0754717 ,\n",
      "       0.68085106]), 'split8_test_score': array([0.        , 0.        , 0.13636364, 0.59090909, 0.25454545,\n",
      "       0.56521739]), 'split9_test_score': array([0.        , 0.        , 0.05882353, 0.61904762, 0.18181818,\n",
      "       0.66666667]), 'mean_test_score': array([0.        , 0.        , 0.12480198, 0.57160824, 0.20069822,\n",
      "       0.60864874]), 'std_test_score': array([0.        , 0.        , 0.05280328, 0.07138476, 0.08465786,\n",
      "       0.06284501]), 'rank_test_score': array([5, 5, 4, 2, 3, 1])}\n"
     ]
    }
   ],
   "source": [
    "#Vamos olhar todos os resultados\n",
    "print('Resumo de todos os resultados encontrados:\\n\\n', grid_cv.cv_results_)"
   ]
  },
  {
   "cell_type": "code",
   "execution_count": 30,
   "metadata": {},
   "outputs": [
    {
     "name": "stdout",
     "output_type": "stream",
     "text": [
      "Melhor Resultado F1: 0.6086487385278134\n",
      "\n",
      "Melhor configuração de hiperparametros {'C': 10, 'kernel': 'rbf'}\n",
      "\n",
      " Configurações de todos os hiperparâmetros do melhor estimado encontrado pelo GridSearch\n",
      " SVC(C=10)\n"
     ]
    }
   ],
   "source": [
    "print('Melhor Resultado F1:', grid_cv.best_score_)\n",
    "print('\\nMelhor configuração de hiperparametros', grid_cv.best_params_)\n",
    "print('\\n Configurações de todos os hiperparâmetros do melhor estimado encontrado pelo GridSearch\\n', grid_cv.best_estimator_)"
   ]
  },
  {
   "cell_type": "code",
   "execution_count": 31,
   "metadata": {},
   "outputs": [],
   "source": [
    "#RANDOM SEARCH\n",
    "from sklearn.model_selection import RandomizedSearchCV\n",
    "from scipy.stats import uniform"
   ]
  },
  {
   "cell_type": "code",
   "execution_count": 33,
   "metadata": {},
   "outputs": [
    {
     "data": {
      "text/plain": [
       "RandomizedSearchCV(cv=StratifiedKFold(n_splits=10, random_state=None, shuffle=False),\n",
       "                   estimator=SVC(),\n",
       "                   param_distributions={'C': <scipy.stats._distn_infrastructure.rv_frozen object at 0x00000293702A4040>,\n",
       "                                        'kernel': ['sigmoid', 'rbf']},\n",
       "                   random_state=42, scoring=make_scorer(f1_score))"
      ]
     },
     "execution_count": 33,
     "metadata": {},
     "output_type": "execute_result"
    }
   ],
   "source": [
    "#Definindo o tipo de validação cruzada e o numero de folds\n",
    "cv_strat = StratifiedKFold(n_splits=10)\n",
    "\n",
    "#Definindo a estratégia de score a partir da metrica f1\n",
    "f1 = make_scorer(f1_score)\n",
    "\n",
    "#Definindo os hiperparametros\n",
    "distributions = dict(kernel=['sigmoid', 'rbf'], C = uniform(loc=0, scale=10))\n",
    "\n",
    "#Instanciando o classificador\n",
    "classifier = SVC()\n",
    "\n",
    "#Instanciando e modelando com os hiperparametros e a validação definidas\n",
    "random_csv = RandomizedSearchCV(classifier, distributions, cv = cv_strat, scoring=f1, random_state = 42, n_iter = 10)\n",
    "random_csv.fit(data, labels)"
   ]
  },
  {
   "cell_type": "code",
   "execution_count": 34,
   "metadata": {},
   "outputs": [
    {
     "name": "stdout",
     "output_type": "stream",
     "text": [
      "Resumo de todos os resultados encontrados:\n",
      "\n",
      " {'mean_fit_time': array([0.01316307, 0.01142123, 0.00922818, 0.01026418, 0.01072474,\n",
      "       0.00833545, 0.00937338, 0.0100117 , 0.01306586, 0.01003559]), 'std_fit_time': array([0.00515548, 0.00458689, 0.00243467, 0.00019359, 0.00340272,\n",
      "       0.00332225, 0.00260722, 0.00391016, 0.00695126, 0.00708602]), 'mean_score_time': array([0.        , 0.00123353, 0.00124259, 0.00225949, 0.00144415,\n",
      "       0.00203166, 0.00242414, 0.00227056, 0.        , 0.00312521]), 'std_score_time': array([0.        , 0.00244727, 0.00245329, 0.00306195, 0.00241373,\n",
      "       0.0036252 , 0.00370297, 0.00305626, 0.        , 0.00625045]), 'param_C': masked_array(data=[3.745401188473625, 1.834347898661638,\n",
      "                   5.986584841970366, 4.458327528535912,\n",
      "                   0.5808361216819946, 3.337086111390218,\n",
      "                   7.080725777960454, 0.5641157902710026,\n",
      "                   8.324426408004218, 0.007787658410143283],\n",
      "             mask=[False, False, False, False, False, False, False, False,\n",
      "                   False, False],\n",
      "       fill_value='?',\n",
      "            dtype=object), 'param_kernel': masked_array(data=['sigmoid', 'rbf', 'sigmoid', 'sigmoid', 'rbf', 'rbf',\n",
      "                   'rbf', 'rbf', 'rbf', 'rbf'],\n",
      "             mask=[False, False, False, False, False, False, False, False,\n",
      "                   False, False],\n",
      "       fill_value='?',\n",
      "            dtype=object), 'params': [{'C': 3.745401188473625, 'kernel': 'sigmoid'}, {'C': 1.834347898661638, 'kernel': 'rbf'}, {'C': 5.986584841970366, 'kernel': 'sigmoid'}, {'C': 4.458327528535912, 'kernel': 'sigmoid'}, {'C': 0.5808361216819946, 'kernel': 'rbf'}, {'C': 3.337086111390218, 'kernel': 'rbf'}, {'C': 7.080725777960454, 'kernel': 'rbf'}, {'C': 0.5641157902710026, 'kernel': 'rbf'}, {'C': 8.324426408004218, 'kernel': 'rbf'}, {'C': 0.007787658410143283, 'kernel': 'rbf'}], 'split0_test_score': array([0.13636364, 0.59574468, 0.17777778, 0.17777778, 0.59090909,\n",
      "       0.56      , 0.58823529, 0.60465116, 0.58823529, 0.        ]), 'split1_test_score': array([0.26415094, 0.51282051, 0.29090909, 0.26415094, 0.42105263,\n",
      "       0.55      , 0.57142857, 0.42105263, 0.60465116, 0.        ]), 'split2_test_score': array([0.11538462, 0.58333333, 0.11320755, 0.11538462, 0.54166667,\n",
      "       0.59574468, 0.57142857, 0.54166667, 0.57142857, 0.        ]), 'split3_test_score': array([0.28571429, 0.58823529, 0.28571429, 0.28571429, 0.47826087,\n",
      "       0.6       , 0.58823529, 0.47826087, 0.58823529, 0.        ]), 'split4_test_score': array([0.14035088, 0.43243243, 0.16949153, 0.13793103, 0.46153846,\n",
      "       0.43243243, 0.47368421, 0.46153846, 0.47368421, 0.        ]), 'split5_test_score': array([0.11764706, 0.72340426, 0.11320755, 0.11764706, 0.65116279,\n",
      "       0.72340426, 0.70833333, 0.65116279, 0.70833333, 0.        ]), 'split6_test_score': array([0.32142857, 0.63829787, 0.32142857, 0.32142857, 0.60869565,\n",
      "       0.63829787, 0.63829787, 0.60869565, 0.63829787, 0.        ]), 'split7_test_score': array([0.08      , 0.68085106, 0.07692308, 0.07692308, 0.62222222,\n",
      "       0.68085106, 0.68085106, 0.62222222, 0.68085106, 0.        ]), 'split8_test_score': array([0.19607843, 0.59090909, 0.25925926, 0.25925926, 0.59090909,\n",
      "       0.57777778, 0.57777778, 0.59090909, 0.54545455, 0.        ]), 'split9_test_score': array([0.18181818, 0.63636364, 0.18181818, 0.18181818, 0.61904762,\n",
      "       0.63636364, 0.66666667, 0.61904762, 0.66666667, 0.        ]), 'mean_test_score': array([0.18389366, 0.59823922, 0.19897369, 0.19380348, 0.55854651,\n",
      "       0.59948717, 0.60649387, 0.55992072, 0.6065838 , 0.        ]), 'std_test_score': array([0.0774005 , 0.0779228 , 0.08113346, 0.07943647, 0.07479853,\n",
      "       0.07565893, 0.06490104, 0.07550339, 0.06617883, 0.        ]), 'rank_test_score': array([ 9,  4,  7,  8,  6,  3,  2,  5,  1, 10])}\n"
     ]
    }
   ],
   "source": [
    "#Vamos olhar todos os resultados\n",
    "print('Resumo de todos os resultados encontrados:\\n\\n', random_csv.cv_results_)"
   ]
  },
  {
   "cell_type": "code",
   "execution_count": null,
   "metadata": {},
   "outputs": [],
   "source": []
  }
 ],
 "metadata": {
  "kernelspec": {
   "display_name": "Python 3",
   "language": "python",
   "name": "python3"
  },
  "language_info": {
   "codemirror_mode": {
    "name": "ipython",
    "version": 3
   },
   "file_extension": ".py",
   "mimetype": "text/x-python",
   "name": "python",
   "nbconvert_exporter": "python",
   "pygments_lexer": "ipython3",
   "version": "3.8.5"
  }
 },
 "nbformat": 4,
 "nbformat_minor": 4
}
